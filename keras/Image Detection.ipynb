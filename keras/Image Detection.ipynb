{
 "cells": [
  {
   "cell_type": "markdown",
   "metadata": {},
   "source": [
    "# Image Detection"
   ]
  },
  {
   "cell_type": "code",
   "execution_count": 16,
   "metadata": {},
   "outputs": [
    {
     "name": "stderr",
     "output_type": "stream",
     "text": [
      "--2017-09-26 08:01:43--  https://cdn.pixabay.com/photo/2013/10/15/08/20/dog-195877_1280.jpg\n",
      "Resolving cdn.pixabay.com (cdn.pixabay.com)... 213.239.228.130, 213.239.228.132, 2a01:4f8:c0:1401::2, ...\n",
      "Connecting to cdn.pixabay.com (cdn.pixabay.com)|213.239.228.130|:443... connected.\n",
      "WARNING: cannot verify cdn.pixabay.com's certificate, issued by 'CN=Let\\'s Encrypt Authority X3,O=Let\\'s Encrypt,C=US':\n",
      "  Issued certificate not yet valid.\n",
      "HTTP request sent, awaiting response... 200 OK\n",
      "Length: 388348 (379K) [image/jpeg]\n",
      "Saving to: 'dog1.jpg'\n",
      "\n",
      "     0K .......... .......... .......... .......... .......... 13% 1.07M 0s\n",
      "    50K .......... .......... .......... .......... .......... 26% 1.69M 0s\n",
      "   100K .......... .......... .......... .......... .......... 39% 1.72M 0s\n",
      "   150K .......... .......... .......... .......... .......... 52% 2.63M 0s\n",
      "   200K .......... .......... .......... .......... .......... 65% 2.93M 0s\n",
      "   250K .......... .......... .......... .......... .......... 79% 2.45M 0s\n",
      "   300K .......... .......... .......... .......... .......... 92% 2.41M 0s\n",
      "   350K .......... .......... .........                       100% 2.99M=0.2s\n",
      "\n",
      "2017-09-26 08:01:43 (1.97 MB/s) - 'dog1.jpg' saved [388348/388348]\n",
      "\n",
      "--2017-09-26 08:01:43--  https://upload.wikimedia.org/wikipedia/commons/thumb/3/37/African_Bush_Elephant.jpg/440px-African_Bush_Elephant.jpg\n",
      "Resolving upload.wikimedia.org (upload.wikimedia.org)... 91.198.174.208, 2620:0:862:ed1a::2:b\n",
      "Connecting to upload.wikimedia.org (upload.wikimedia.org)|91.198.174.208|:443... connected.\n",
      "HTTP request sent, awaiting response... 200 OK\n",
      "Length: 72538 (71K) [image/jpeg]\n",
      "Saving to: 'elephant1.jpg'\n",
      "\n",
      "     0K .......... .......... .......... .......... .......... 70% 2.22M 0s\n",
      "    50K .......... ..........                                 100%  398K=0.07s\n",
      "\n",
      "2017-09-26 08:01:43 (953 KB/s) - 'elephant1.jpg' saved [72538/72538]\n",
      "\n",
      "--2017-09-26 08:01:43--  https://upload.wikimedia.org/wikipedia/commons/thumb/2/26/YellowLabradorLooking_new.jpg/440px-YellowLabradorLooking_new.jpg\n",
      "Resolving upload.wikimedia.org (upload.wikimedia.org)... 91.198.174.208, 2620:0:862:ed1a::2:b\n",
      "Connecting to upload.wikimedia.org (upload.wikimedia.org)|91.198.174.208|:443... connected.\n",
      "HTTP request sent, awaiting response... 200 OK\n",
      "Length: 64342 (63K) [image/jpeg]\n",
      "Saving to: 'dog2.jpg'\n",
      "\n",
      "     0K .......... .......... .......... .......... .......... 79% 2.37M 0s\n",
      "    50K .......... ..                                         100% 1.97M=0.03s\n",
      "\n",
      "2017-09-26 08:01:43 (2.27 MB/s) - 'dog2.jpg' saved [64342/64342]\n",
      "\n"
     ]
    }
   ],
   "source": [
    "%%bash \n",
    "wget --no-check-certificate https://cdn.pixabay.com/photo/2013/10/15/08/20/dog-195877_1280.jpg -O dog1.jpg\n",
    "wget --no-check-certificate https://upload.wikimedia.org/wikipedia/commons/thumb/3/37/African_Bush_Elephant.jpg/440px-African_Bush_Elephant.jpg -O elephant1.jpg\n",
    "wget --no-check-certificate https://upload.wikimedia.org/wikipedia/commons/thumb/2/26/YellowLabradorLooking_new.jpg/440px-YellowLabradorLooking_new.jpg -O dog2.jpg"
   ]
  },
  {
   "cell_type": "code",
   "execution_count": 22,
   "metadata": {},
   "outputs": [],
   "source": [
    "from keras.applications.resnet50 import ResNet50\n",
    "from keras.applications.vgg16 import VGG16\n",
    "from keras.preprocessing import image\n",
    "from keras.applications.resnet50 import preprocess_input, decode_predictions\n",
    "import numpy as np\n"
   ]
  },
  {
   "cell_type": "code",
   "execution_count": 26,
   "metadata": {},
   "outputs": [],
   "source": [
    "model = ResNet50(weights='imagenet')\n",
    "#model = VGG16(weights='imagenet', include_top=False)"
   ]
  },
  {
   "cell_type": "code",
   "execution_count": 27,
   "metadata": {},
   "outputs": [],
   "source": [
    "img_path = 'dog2.jpg'\n",
    "img = image.load_img(img_path, target_size=(224, 224))\n",
    "x = image.img_to_array(img)\n",
    "x = np.expand_dims(x, axis=0)\n",
    "x = preprocess_input(x)\n",
    "\n"
   ]
  },
  {
   "cell_type": "code",
   "execution_count": 28,
   "metadata": {},
   "outputs": [
    {
     "name": "stdout",
     "output_type": "stream",
     "text": [
      "('Predicted:', [(u'n02099712', u'Labrador_retriever', 0.14467336), (u'n02091244', u'Ibizan_hound', 0.081300534), (u'n02104029', u'kuvasz', 0.06764105)])\n"
     ]
    }
   ],
   "source": [
    "preds = model.predict(x)\n",
    "# decode the results into a list of tuples (class, description, probability)\n",
    "# (one such list for each sample in the batch)\n",
    "print('Predicted:', decode_predictions(preds, top=3)[0])"
   ]
  },
  {
   "cell_type": "code",
   "execution_count": 13,
   "metadata": {},
   "outputs": [
    {
     "name": "stdout",
     "output_type": "stream",
     "text": [
      "('Predicted:', [(u'n02504458', u'African_elephant', 0.89825284), (u'n01871265', u'tusker', 0.075388595), (u'n02504013', u'Indian_elephant', 0.02282396)])\n"
     ]
    }
   ],
   "source": [
    "img_path = 'elephant1.jpg'\n",
    "img = image.load_img(img_path, target_size=(224, 224))\n",
    "x = image.img_to_array(img)\n",
    "x = np.expand_dims(x, axis=0)\n",
    "x = preprocess_input(x)\n",
    "preds = model.predict(x)\n",
    "print('Predicted:', decode_predictions(preds, top=3)[0])\n"
   ]
  },
  {
   "cell_type": "code",
   "execution_count": null,
   "metadata": {},
   "outputs": [],
   "source": []
  }
 ],
 "metadata": {
  "kernelspec": {
   "display_name": "Python 2",
   "language": "python",
   "name": "python2"
  },
  "language_info": {
   "codemirror_mode": {
    "name": "ipython",
    "version": 2
   },
   "file_extension": ".py",
   "mimetype": "text/x-python",
   "name": "python",
   "nbconvert_exporter": "python",
   "pygments_lexer": "ipython2",
   "version": "2.7.12"
  }
 },
 "nbformat": 4,
 "nbformat_minor": 2
}
