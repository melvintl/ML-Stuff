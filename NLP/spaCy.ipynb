{
 "cells": [
  {
   "cell_type": "markdown",
   "metadata": {},
   "source": [
    "# NLP using spaCy\n",
    "\n",
    "Notes/ Semistructured snippets on using spaCy library for doing basic NLP operations like tokenization, POS tagging, NER etc\n",
    "\n",
    "further reading\n",
    "\n",
    "https://spacy.io/docs/usage/tutorials\n",
    "https://github.com/cytora/pycon-nlp-in-10-lines/blob/master/01_pride_and_predjudice.ipynb\n",
    "https://github.com/JonathanReeve/advanced-text-analysis-workshop-2017/blob/master/advanced-text-analysis.ipynb"
   ]
  },
  {
   "cell_type": "code",
   "execution_count": 24,
   "metadata": {},
   "outputs": [],
   "source": [
    "import pandas as pd\n",
    "from spacy.en import English\n",
    "nlp = English()"
   ]
  },
  {
   "cell_type": "code",
   "execution_count": 25,
   "metadata": {},
   "outputs": [],
   "source": [
    "text = (\"This is a bunch of text. It contains a few sentences, all together.Your basic, run-of-the-mill paragraph.\")"
   ]
  },
  {
   "cell_type": "code",
   "execution_count": 36,
   "metadata": {},
   "outputs": [],
   "source": [
    "doc = nlp(text)"
   ]
  },
  {
   "cell_type": "code",
   "execution_count": 27,
   "metadata": {},
   "outputs": [
    {
     "name": "stdout",
     "output_type": "stream",
     "text": [
      "This is a bunch of text.\n",
      "It contains a few sentences, all together.\n",
      "Your basic, run-of-the-mill paragraph.\n"
     ]
    }
   ],
   "source": [
    "for sentence in doc.sents:\n",
    "    print(sentence)"
   ]
  },
  {
   "cell_type": "code",
   "execution_count": 28,
   "metadata": {},
   "outputs": [
    {
     "name": "stdout",
     "output_type": "stream",
     "text": [
      "This - DET\n",
      "is - VERB\n",
      "a - DET\n",
      "bunch - NOUN\n",
      "of - ADP\n",
      "text - NOUN\n",
      ". - PUNCT\n",
      "It - PRON\n",
      "contains - VERB\n",
      "a - DET\n",
      "few - ADJ\n",
      "sentences - NOUN\n",
      ", - PUNCT\n",
      "all - DET\n",
      "together - ADV\n",
      ". - PUNCT\n",
      "Your - ADJ\n",
      "basic - ADJ\n",
      ", - PUNCT\n",
      "run - VERB\n",
      "- - PUNCT\n",
      "of - ADP\n",
      "- - PUNCT\n",
      "the - DET\n",
      "- - PUNCT\n",
      "mill - NOUN\n",
      "paragraph - NOUN\n",
      ". - PUNCT\n"
     ]
    }
   ],
   "source": [
    "#POS Tagging\n",
    "\n",
    "for token in doc:\n",
    "    print('{} - {}'.format(token, token.pos_))"
   ]
  },
  {
   "cell_type": "code",
   "execution_count": 78,
   "metadata": {},
   "outputs": [
    {
     "name": "stdout",
     "output_type": "stream",
     "text": [
      "Paris - GPE\n",
      "Jack - PERSON\n",
      "Microsoft - ORG\n",
      "French - NORP\n"
     ]
    }
   ],
   "source": [
    "#NER\n",
    "#Note doest detect NER if it doesnt start with upper case\n",
    "doc_2 = nlp(u\"I went to Paris where I met my old friend Jack from my university, who now works for Microsoft. He recently started learning French\")\n",
    "for ent in doc_2.ents:\n",
    "    print('{} - {}'.format(ent, ent.label_))"
   ]
  },
  {
   "cell_type": "code",
   "execution_count": 30,
   "metadata": {},
   "outputs": [
    {
     "name": "stdout",
     "output_type": "stream",
     "text": [
      "The boy\n",
      "the yellow dog\n"
     ]
    }
   ],
   "source": [
    "#Noun chunking\n",
    "\n",
    "doc_3 = nlp(u\"The boy saw the yellow dog\")\n",
    "for chunk in doc_3.noun_chunks:\n",
    "    print(chunk)"
   ]
  },
  {
   "cell_type": "code",
   "execution_count": 31,
   "metadata": {},
   "outputs": [],
   "source": [
    "nounphrases = [[np.orth_, np.root.head.orth_] for np in doc.noun_chunks]"
   ]
  },
  {
   "cell_type": "code",
   "execution_count": 38,
   "metadata": {},
   "outputs": [
    {
     "name": "stdout",
     "output_type": "stream",
     "text": [
      "There were 3 sentences found. Here's a sample:\n"
     ]
    },
    {
     "data": {
      "text/html": [
       "<div>\n",
       "<style>\n",
       "    .dataframe thead tr:only-child th {\n",
       "        text-align: right;\n",
       "    }\n",
       "\n",
       "    .dataframe thead th {\n",
       "        text-align: left;\n",
       "    }\n",
       "\n",
       "    .dataframe tbody tr th {\n",
       "        vertical-align: top;\n",
       "    }\n",
       "</style>\n",
       "<table border=\"1\" class=\"dataframe\">\n",
       "  <thead>\n",
       "    <tr style=\"text-align: right;\">\n",
       "      <th></th>\n",
       "      <th>0</th>\n",
       "    </tr>\n",
       "  </thead>\n",
       "  <tbody>\n",
       "    <tr>\n",
       "      <th>0</th>\n",
       "      <td>It contains a few sentences, all together.</td>\n",
       "    </tr>\n",
       "    <tr>\n",
       "      <th>1</th>\n",
       "      <td>Your basic, run-of-the-mill paragraph.</td>\n",
       "    </tr>\n",
       "  </tbody>\n",
       "</table>\n",
       "</div>"
      ],
      "text/plain": [
       "                                            0\n",
       "0  It contains a few sentences, all together.\n",
       "1      Your basic, run-of-the-mill paragraph."
      ]
     },
     "execution_count": 38,
     "metadata": {},
     "output_type": "execute_result"
    }
   ],
   "source": [
    "\n",
    "sentences = [sentence.orth_ for sentence in doc.sents]\n",
    "print(\"There were {} sentences found. Here's a sample:\".format(len(sentences)))\n",
    "pd.DataFrame(sentences[1:3])"
   ]
  },
  {
   "cell_type": "code",
   "execution_count": 40,
   "metadata": {},
   "outputs": [
    {
     "name": "stdout",
     "output_type": "stream",
     "text": [
      "There were 5 noun phrases found. Here's a sample:\n"
     ]
    },
    {
     "data": {
      "text/html": [
       "<div>\n",
       "<style>\n",
       "    .dataframe thead tr:only-child th {\n",
       "        text-align: right;\n",
       "    }\n",
       "\n",
       "    .dataframe thead th {\n",
       "        text-align: left;\n",
       "    }\n",
       "\n",
       "    .dataframe tbody tr th {\n",
       "        vertical-align: top;\n",
       "    }\n",
       "</style>\n",
       "<table border=\"1\" class=\"dataframe\">\n",
       "  <thead>\n",
       "    <tr style=\"text-align: right;\">\n",
       "      <th></th>\n",
       "      <th>0</th>\n",
       "      <th>1</th>\n",
       "    </tr>\n",
       "  </thead>\n",
       "  <tbody>\n",
       "    <tr>\n",
       "      <th>0</th>\n",
       "      <td>text</td>\n",
       "      <td>of</td>\n",
       "    </tr>\n",
       "    <tr>\n",
       "      <th>1</th>\n",
       "      <td>It</td>\n",
       "      <td>contains</td>\n",
       "    </tr>\n",
       "    <tr>\n",
       "      <th>2</th>\n",
       "      <td>a few sentences</td>\n",
       "      <td>contains</td>\n",
       "    </tr>\n",
       "  </tbody>\n",
       "</table>\n",
       "</div>"
      ],
      "text/plain": [
       "                 0         1\n",
       "0             text        of\n",
       "1               It  contains\n",
       "2  a few sentences  contains"
      ]
     },
     "execution_count": 40,
     "metadata": {},
     "output_type": "execute_result"
    }
   ],
   "source": [
    "nounphrases = [[np.orth_, np.root.head.orth_] for np in doc.noun_chunks]\n",
    "print(\"There were {} noun phrases found. Here's a sample:\".format(len(nounphrases)))\n",
    "pd.DataFrame(nounphrases[1:4])"
   ]
  },
  {
   "cell_type": "code",
   "execution_count": 44,
   "metadata": {},
   "outputs": [
    {
     "name": "stdout",
     "output_type": "stream",
     "text": [
      "There were 4 entities found\n"
     ]
    }
   ],
   "source": [
    "entities = list(doc_2.ents)\n",
    "print(\"There were {} entities found\".format(len(entities)))"
   ]
  },
  {
   "cell_type": "code",
   "execution_count": 45,
   "metadata": {},
   "outputs": [
    {
     "data": {
      "text/html": [
       "<div>\n",
       "<style>\n",
       "    .dataframe thead tr:only-child th {\n",
       "        text-align: right;\n",
       "    }\n",
       "\n",
       "    .dataframe thead th {\n",
       "        text-align: left;\n",
       "    }\n",
       "\n",
       "    .dataframe tbody tr th {\n",
       "        vertical-align: top;\n",
       "    }\n",
       "</style>\n",
       "<table border=\"1\" class=\"dataframe\">\n",
       "  <thead>\n",
       "    <tr style=\"text-align: right;\">\n",
       "      <th></th>\n",
       "      <th>0</th>\n",
       "    </tr>\n",
       "  </thead>\n",
       "  <tbody>\n",
       "    <tr>\n",
       "      <th>0</th>\n",
       "      <td>Jack</td>\n",
       "    </tr>\n",
       "    <tr>\n",
       "      <th>1</th>\n",
       "      <td>Microsoft</td>\n",
       "    </tr>\n",
       "  </tbody>\n",
       "</table>\n",
       "</div>"
      ],
      "text/plain": [
       "           0\n",
       "0       Jack\n",
       "1  Microsoft"
      ]
     },
     "execution_count": 45,
     "metadata": {},
     "output_type": "execute_result"
    }
   ],
   "source": [
    "orgs_and_people = [entity.orth_ for entity in entities if entity.label_ in ['ORG','PERSON']]\n",
    "pd.DataFrame(orgs_and_people)"
   ]
  },
  {
   "cell_type": "code",
   "execution_count": 46,
   "metadata": {},
   "outputs": [
    {
     "name": "stdout",
     "output_type": "stream",
     "text": [
      "The 501 the\n",
      "boy 2729 boy\n",
      "saw 678 see\n",
      "the 501 the\n",
      "yellow 6056 yellow\n",
      "dog 1847 dog\n"
     ]
    }
   ],
   "source": [
    "for token in doc_3:\n",
    "    print(token, token.lemma, token.lemma_)"
   ]
  },
  {
   "cell_type": "code",
   "execution_count": 47,
   "metadata": {},
   "outputs": [
    {
     "name": "stdout",
     "output_type": "stream",
     "text": [
      "The 88 DET\n",
      "boy 90 NOUN\n",
      "saw 98 VERB\n",
      "the 88 DET\n",
      "yellow 82 ADJ\n",
      "dog 90 NOUN\n"
     ]
    }
   ],
   "source": [
    "for token in doc_3:\n",
    "    print(token, token.pos, token.pos_)"
   ]
  }
 ],
 "metadata": {
  "kernelspec": {
   "display_name": "Python 3",
   "language": "python",
   "name": "python3"
  },
  "language_info": {
   "codemirror_mode": {
    "name": "ipython",
    "version": 3
   },
   "file_extension": ".py",
   "mimetype": "text/x-python",
   "name": "python",
   "nbconvert_exporter": "python",
   "pygments_lexer": "ipython3",
   "version": "3.5.2"
  }
 },
 "nbformat": 4,
 "nbformat_minor": 2
}
